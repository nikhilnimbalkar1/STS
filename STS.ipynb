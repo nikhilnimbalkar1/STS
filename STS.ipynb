{
  "nbformat": 4,
  "nbformat_minor": 0,
  "metadata": {
    "colab": {
      "name": "STS.ipynb",
      "provenance": [],
      "collapsed_sections": [],
      "authorship_tag": "ABX9TyMQ0fqOYpgYqZNbmwb/vasV",
      "include_colab_link": true
    },
    "kernelspec": {
      "name": "python3",
      "display_name": "Python 3"
    },
    "accelerator": "GPU"
  },
  "cells": [
    {
      "cell_type": "markdown",
      "metadata": {
        "id": "view-in-github",
        "colab_type": "text"
      },
      "source": [
        "<a href=\"https://colab.research.google.com/github/nikhilnimbalkar1/STS/blob/master/STS.ipynb\" target=\"_parent\"><img src=\"https://colab.research.google.com/assets/colab-badge.svg\" alt=\"Open In Colab\"/></a>"
      ]
    },
    {
      "cell_type": "markdown",
      "metadata": {
        "id": "eauvgvn_2Vbh",
        "colab_type": "text"
      },
      "source": [
        "# STS prediction using trained models "
      ]
    },
    {
      "cell_type": "code",
      "metadata": {
        "id": "2uC8eoqpkAAD",
        "colab_type": "code",
        "colab": {}
      },
      "source": [
        "import tensorflow as tf\n",
        "import pandas as pd\n",
        "import numpy as np\n",
        "import tensorflow_hub as hub "
      ],
      "execution_count": 0,
      "outputs": []
    },
    {
      "cell_type": "code",
      "metadata": {
        "id": "MXJyd7qxpVxE",
        "colab_type": "code",
        "colab": {}
      },
      "source": [
        "from google.colab import drive\n",
        "drive.mount('/content/gdrive',force_remount=True)"
      ],
      "execution_count": 0,
      "outputs": []
    },
    {
      "cell_type": "markdown",
      "metadata": {
        "id": "P-jRSNJX2j_K",
        "colab_type": "text"
      },
      "source": [
        "# **Load trained models**\n",
        "We have two models trained on different datasets to choose from.\n"
      ]
    },
    {
      "cell_type": "code",
      "metadata": {
        "id": "CUa3kCVZsNcc",
        "colab_type": "code",
        "colab": {}
      },
      "source": [
        "model=tf.keras.models.load_model(\"/content/gdrive/My Drive/Colab Notebooks/STS_models/saved_model_sick.h5\")"
      ],
      "execution_count": 0,
      "outputs": []
    },
    {
      "cell_type": "markdown",
      "metadata": {
        "id": "mXDGcG_v25Uj",
        "colab_type": "text"
      },
      "source": [
        "**Load pretrained USE model**"
      ]
    },
    {
      "cell_type": "code",
      "metadata": {
        "id": "3rqhk1HXt-5D",
        "colab_type": "code",
        "colab": {}
      },
      "source": [
        "def load_USE():\n",
        "  use_model_url=\"https://tfhub.dev/google/universal-sentence-encoder-large/5\"\n",
        "  embed=hub.load(use_model_url)\n",
        "  return embed"
      ],
      "execution_count": 0,
      "outputs": []
    },
    {
      "cell_type": "code",
      "metadata": {
        "id": "hscpPe0ry0wj",
        "colab_type": "code",
        "colab": {}
      },
      "source": [
        "embed=load_USE()\n",
        "def create_embeddings(sentence):\n",
        "    embedding = tf.nn.l2_normalize(embed(sentence), axis=1)\n",
        "    embedding=tf.expand_dims(embedding,axis=2)\n",
        "    return embedding"
      ],
      "execution_count": 0,
      "outputs": []
    },
    {
      "cell_type": "markdown",
      "metadata": {
        "id": "oRg_qHdg2_FB",
        "colab_type": "text"
      },
      "source": [
        "# Question-Question Pair dataset\n",
        "We'll predict semantic similarity on the question pair dataset by Quora.\n",
        "The Quora dataset does not include actual similarity score but rather just a 0 and 1 score to check for duplicates.We'll predict our scores ranging from 0 to 1. "
      ]
    },
    {
      "cell_type": "code",
      "metadata": {
        "id": "6m-5-uBgsglA",
        "colab_type": "code",
        "colab": {}
      },
      "source": [
        "questions=pd.read_csv(\"/content/gdrive/My Drive/Colab Notebooks/Datasets_STS/questions.csv\",usecols=['question1','question2','is_duplicate'])"
      ],
      "execution_count": 0,
      "outputs": []
    },
    {
      "cell_type": "markdown",
      "metadata": {
        "id": "FmRIdizO3wtn",
        "colab_type": "text"
      },
      "source": [
        "**Prepare embeddings dataset for our model**"
      ]
    },
    {
      "cell_type": "code",
      "metadata": {
        "id": "L8MB3FWnszzf",
        "colab_type": "code",
        "colab": {}
      },
      "source": [
        "def prepare_data(sts_data):\n",
        "  sts_encode1 = create_embeddings(tf.constant(sts_data.iloc[:,0].tolist()))\n",
        "  sts_encode2 = create_embeddings(tf.constant(sts_data.iloc[:,1].tolist()))\n",
        "  sts_sims=sts_data.iloc[:,2]\n",
        "  sts_sims=tf.convert_to_tensor(sts_sims)\n",
        "  return sts_encode1,sts_encode2,sts_sims"
      ],
      "execution_count": 0,
      "outputs": []
    },
    {
      "cell_type": "markdown",
      "metadata": {
        "id": "Ih54D0Q_356n",
        "colab_type": "text"
      },
      "source": [
        "**Prediction and saving file to drive**"
      ]
    },
    {
      "cell_type": "code",
      "metadata": {
        "id": "MA4lQXXOs1Kw",
        "colab_type": "code",
        "colab": {}
      },
      "source": [
        "def predict_samples(samples,model):\n",
        "  samples_embeddings1,samples_embeddings2,samples_similarity=prepare_data(samples)\n",
        "  preds=model.predict([samples_embeddings1,samples_embeddings2])\n",
        "  preds=preds.tolist()\n",
        "  preds=np.squeeze(preds,axis=1)\n",
        "  preds=pd.DataFrame(preds)\n",
        "  samples['predicted_sim']=preds\n",
        "  return samples"
      ],
      "execution_count": 0,
      "outputs": []
    },
    {
      "cell_type": "code",
      "metadata": {
        "id": "BjXOtln-uN2s",
        "colab_type": "code",
        "outputId": "518ae194-f32f-4e1f-ffc8-76e576a180e0",
        "colab": {
          "base_uri": "https://localhost:8080/",
          "height": 118
        }
      },
      "source": [
        "predicted_questions=predict_samples(questions[:100],model)"
      ],
      "execution_count": 0,
      "outputs": [
        {
          "output_type": "stream",
          "text": [
            "/usr/local/lib/python3.6/dist-packages/ipykernel_launcher.py:7: SettingWithCopyWarning: \n",
            "A value is trying to be set on a copy of a slice from a DataFrame.\n",
            "Try using .loc[row_indexer,col_indexer] = value instead\n",
            "\n",
            "See the caveats in the documentation: https://pandas.pydata.org/pandas-docs/stable/user_guide/indexing.html#returning-a-view-versus-a-copy\n",
            "  import sys\n"
          ],
          "name": "stderr"
        }
      ]
    },
    {
      "cell_type": "code",
      "metadata": {
        "id": "0qjCHe0RueE6",
        "colab_type": "code",
        "colab": {}
      },
      "source": [
        "predicted_questions.to_csv(\"/content/gdrive/My Drive/Colab Notebooks/Datasets_STS/qqq_sts.csv\")"
      ],
      "execution_count": 0,
      "outputs": []
    },
    {
      "cell_type": "markdown",
      "metadata": {
        "id": "vu1yXymg4ByW",
        "colab_type": "text"
      },
      "source": [
        "# Test your own input\n",
        "Provide your own input to predict similarity in percentage."
      ]
    },
    {
      "cell_type": "code",
      "metadata": {
        "id": "ykiNeIHLzMEG",
        "colab_type": "code",
        "colab": {}
      },
      "source": [
        "inp1=input(\"First Sentence/Paragraph: \\n\\t\")\n",
        "inp2=input(\"Second Sentence/Paragraph: \\n\\t\")"
      ],
      "execution_count": 0,
      "outputs": []
    },
    {
      "cell_type": "code",
      "metadata": {
        "id": "NMR0fPrWy5Xz",
        "colab_type": "code",
        "colab": {}
      },
      "source": [
        "sent1=create_embeddings([inp1])\n",
        "sent2=create_embeddings([inp2])"
      ],
      "execution_count": 0,
      "outputs": []
    },
    {
      "cell_type": "code",
      "metadata": {
        "id": "E9upwqQky7h5",
        "colab_type": "code",
        "colab": {}
      },
      "source": [
        "sem_sim=float(model.predict([sent1,sent2]))\n",
        "print(\"Semantic Similarity:  {:05.2f}\".format(sem_sim*100),\"%\")"
      ],
      "execution_count": 0,
      "outputs": []
    }
  ]
}