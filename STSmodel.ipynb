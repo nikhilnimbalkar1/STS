{
  "nbformat": 4,
  "nbformat_minor": 0,
  "metadata": {
    "colab": {
      "name": "STSmodel.ipynb",
      "provenance": [],
      "collapsed_sections": [],
      "authorship_tag": "ABX9TyP1xstdpRaKLv7eZv0DravD",
      "include_colab_link": true
    },
    "kernelspec": {
      "name": "python3",
      "display_name": "Python 3"
    },
    "accelerator": "GPU"
  },
  "cells": [
    {
      "cell_type": "markdown",
      "metadata": {
        "id": "view-in-github",
        "colab_type": "text"
      },
      "source": [
        "<a href=\"https://colab.research.google.com/github/nikhilnimbalkar1/STS/blob/master/STSmodel.ipynb\" target=\"_parent\"><img src=\"https://colab.research.google.com/assets/colab-badge.svg\" alt=\"Open In Colab\"/></a>"
      ]
    },
    {
      "cell_type": "markdown",
      "metadata": {
        "id": "FyYN_cI4PHT2",
        "colab_type": "text"
      },
      "source": [
        "# Siamese Manhattan LSTM-RNN for Semantic Similarity of Text. \n",
        "This architecture is based on [this keras model ](https://github.com/eliorc/Medium/blob/master/MaLSTM.ipynb) , you can also try any other implementations from [this link](https://github.com/nikhilnimbalkar1?tab=stars).Try enhancing the model individually and share all progress."
      ]
    },
    {
      "cell_type": "code",
      "metadata": {
        "id": "lCykLg-OJ2OO",
        "colab_type": "code",
        "colab": {}
      },
      "source": [
        "import tensorflow as tf\n",
        "import pandas as pd\n",
        "import numpy as np\n",
        "import tensorflow_hub as hub\n",
        "import matplotlib.pyplot as plt\n",
        "import os\n",
        "import csv\n",
        "import scipy\n",
        "import tensorflow.keras.backend as K"
      ],
      "execution_count": 0,
      "outputs": []
    },
    {
      "cell_type": "markdown",
      "metadata": {
        "id": "DZ969RPSLs9Y",
        "colab_type": "text"
      },
      "source": [
        "Module required to save models in \"h5\" format"
      ]
    },
    {
      "cell_type": "code",
      "metadata": {
        "id": "3M_LFBuVSOvh",
        "colab_type": "code",
        "colab": {}
      },
      "source": [
        "!pip3 install -q pyyaml h5py "
      ],
      "execution_count": 0,
      "outputs": []
    },
    {
      "cell_type": "markdown",
      "metadata": {
        "id": "TtVPYPHeL86s",
        "colab_type": "text"
      },
      "source": [
        "Import and export files to google Drive"
      ]
    },
    {
      "cell_type": "code",
      "metadata": {
        "id": "fSJrALnbL7gI",
        "colab_type": "code",
        "outputId": "af8ac55c-ad72-4f23-d9e5-fee1651f4e54",
        "colab": {
          "base_uri": "https://localhost:8080/",
          "height": 121
        }
      },
      "source": [
        "from google.colab import drive\n",
        "drive.mount('/content/gdrive',force_remount=True)"
      ],
      "execution_count": 3,
      "outputs": [
        {
          "output_type": "stream",
          "text": [
            "Go to this URL in a browser: https://accounts.google.com/o/oauth2/auth?client_id=947318989803-6bn6qk8qdgf4n4g3pfee6491hc0brc4i.apps.googleusercontent.com&redirect_uri=urn%3aietf%3awg%3aoauth%3a2.0%3aoob&response_type=code&scope=email%20https%3a%2f%2fwww.googleapis.com%2fauth%2fdocs.test%20https%3a%2f%2fwww.googleapis.com%2fauth%2fdrive%20https%3a%2f%2fwww.googleapis.com%2fauth%2fdrive.photos.readonly%20https%3a%2f%2fwww.googleapis.com%2fauth%2fpeopleapi.readonly\n",
            "\n",
            "Enter your authorization code:\n",
            "··········\n",
            "Mounted at /content/gdrive\n"
          ],
          "name": "stdout"
        }
      ]
    },
    {
      "cell_type": "markdown",
      "metadata": {
        "id": "J4PeKQ9gJB61",
        "colab_type": "text"
      },
      "source": [
        "Ensure you have tensorflow api v2 isntalled or there are some issues with training the final model that are not yet certain."
      ]
    },
    {
      "cell_type": "code",
      "metadata": {
        "id": "zKlRzTUJAGhz",
        "colab_type": "code",
        "outputId": "7f04af05-d2f5-4646-f04e-8faaa6e228c0",
        "colab": {
          "base_uri": "https://localhost:8080/",
          "height": 34
        }
      },
      "source": [
        "tf.version"
      ],
      "execution_count": 4,
      "outputs": [
        {
          "output_type": "execute_result",
          "data": {
            "text/plain": [
              "<module 'tensorflow._api.v2.version' from '/usr/local/lib/python3.6/dist-packages/tensorflow/_api/v2/version/__init__.py'>"
            ]
          },
          "metadata": {
            "tags": []
          },
          "execution_count": 4
        }
      ]
    },
    {
      "cell_type": "markdown",
      "metadata": {
        "id": "FkA2KnzzJPJF",
        "colab_type": "text"
      },
      "source": [
        "Load STS Dataset and clean up some values."
      ]
    },
    {
      "cell_type": "code",
      "metadata": {
        "id": "UqUOQaDxMofM",
        "colab_type": "code",
        "colab": {}
      },
      "source": [
        "def load_sts_dataset():\n",
        "  sts_dataset = tf.keras.utils.get_file(\n",
        "      fname=\"Stsbenchmark.tar.gz\",\n",
        "      origin=\"http://ixa2.si.ehu.es/stswiki/images/4/48/Stsbenchmark.tar.gz\",\n",
        "      extract=True)\n",
        "\n",
        "  sts_dev = pd.read_table(\n",
        "      os.path.join(os.path.dirname(sts_dataset), \"stsbenchmark\", \"sts-dev.csv\"),\n",
        "      error_bad_lines=False,\n",
        "      skip_blank_lines=True,\n",
        "      usecols=[4, 5, 6],\n",
        "      names=[\"sim\", \"sent_1\", \"sent_2\"])\n",
        "\n",
        "  sts_test = pd.read_table(\n",
        "      os.path.join(\n",
        "          os.path.dirname(sts_dataset), \"stsbenchmark\", \"sts-test.csv\"),\n",
        "      error_bad_lines=False,\n",
        "      quoting=csv.QUOTE_NONE,\n",
        "      skip_blank_lines=True,\n",
        "      usecols=[4, 5, 6],\n",
        "      names=[\"sim\", \"sent_1\", \"sent_2\"])\n",
        "\n",
        "  sts_train = pd.read_table(\n",
        "      os.path.join(\n",
        "          os.path.dirname(sts_dataset), \"stsbenchmark\", \"sts-train.csv\"),\n",
        "      error_bad_lines=False,\n",
        "      quoting=csv.QUOTE_NONE,\n",
        "      skip_blank_lines=True,\n",
        "      usecols=[4, 5, 6],\n",
        "      names=[\"sim\", \"sent_1\", \"sent_2\"])\n",
        "  # cleanup some NaN values in sts_dev\n",
        "  sts_dev = sts_dev[[isinstance(s, str) for s in sts_dev['sent_2']]]\n",
        "  return sts_train,sts_test,sts_dev\n",
        "\n"
      ],
      "execution_count": 0,
      "outputs": []
    },
    {
      "cell_type": "markdown",
      "metadata": {
        "id": "evOzS_aUPF5I",
        "colab_type": "text"
      },
      "source": [
        "Load Universal Sentence Encoder transformer model.Alternatively we can use DAN model too. "
      ]
    },
    {
      "cell_type": "code",
      "metadata": {
        "id": "NUHBjcmGOPaG",
        "colab_type": "code",
        "colab": {}
      },
      "source": [
        "def load_USE():\n",
        "  use_model_url=\"https://tfhub.dev/google/universal-sentence-encoder-large/5\"\n",
        "  embed=hub.load(\"https://tfhub.dev/google/universal-sentence-encoder-large/5\")\n",
        "  return embed"
      ],
      "execution_count": 0,
      "outputs": []
    },
    {
      "cell_type": "markdown",
      "metadata": {
        "id": "nJG0fwcqf_io",
        "colab_type": "text"
      },
      "source": [
        "Helper Function to calculate Manhattan Distance between the final output Tensors"
      ]
    },
    {
      "cell_type": "code",
      "metadata": {
        "id": "vTDgtDYnqbb6",
        "colab_type": "code",
        "colab": {}
      },
      "source": [
        "def manhattan_distance(left, right):\n",
        "    return K.exp(-K.sum(K.abs(left-right), axis=1, keepdims=True))"
      ],
      "execution_count": 0,
      "outputs": []
    },
    {
      "cell_type": "markdown",
      "metadata": {
        "id": "xJPe3ge0gLYS",
        "colab_type": "text"
      },
      "source": [
        "Prepare Data and convert both sentences to embeddings seperately and convert the similarity column to Tensor type too.\n",
        "Shuffling and Repeating the data from Tensorflow API should be used too to get accurate models.We'll try that individually and compare models later."
      ]
    },
    {
      "cell_type": "code",
      "metadata": {
        "id": "HzsPB-tJ2HHl",
        "colab_type": "code",
        "colab": {}
      },
      "source": [
        "embed=load_USE()\n",
        "def prepare_data(sts_data):\n",
        "  sts_encode1 = tf.nn.l2_normalize(embed(tf.constant(sts_data['sent_1'].tolist())), axis=1)\n",
        "  sts_encode2 = tf.nn.l2_normalize(embed(tf.constant(sts_data['sent_2'].tolist())), axis=1)\n",
        "  sts_encode1=tf.expand_dims(sts_encode1,axis=2)\n",
        "  sts_encode2=tf.expand_dims(sts_encode2,axis=2)\n",
        "  sts_sims=sts_data['sim']\n",
        "  sts_sims=tf.convert_to_tensor(sts_sims)\n",
        "  #Normalise similarity score using Min-Max normalization as our output won't vary from 0 to 5\n",
        "  sts_sims=tf.divide(tf.subtract(sts_sims,tf.reduce_min(sts_sims)),tf.subtract(tf.reduce_max(sts_sims),tf.reduce_min(sts_sims)))\n",
        "  return sts_encode1,sts_encode2,sts_sims\n"
      ],
      "execution_count": 0,
      "outputs": []
    },
    {
      "cell_type": "markdown",
      "metadata": {
        "id": "MjNcR7EshExh",
        "colab_type": "text"
      },
      "source": [
        "Function to plot model loss and accuracy"
      ]
    },
    {
      "cell_type": "code",
      "metadata": {
        "id": "0vCWulMA497S",
        "colab_type": "code",
        "colab": {}
      },
      "source": [
        "def plot_model_history(model):\n",
        "  # Plot loss\n",
        "  plt.grid(b=True)\n",
        "  plt.plot(model.history['loss'])\n",
        "  plt.plot(model.history['val_loss'])\n",
        "  plt.title('Model Loss')\n",
        "  plt.ylabel('Loss')\n",
        "  plt.xlabel('Epoch')\n",
        "  plt.legend(['Train', 'Validation'], loc='upper right')\n",
        "  plt.show()"
      ],
      "execution_count": 0,
      "outputs": []
    },
    {
      "cell_type": "markdown",
      "metadata": {
        "id": "fU1Q-c68hSki",
        "colab_type": "text"
      },
      "source": [
        "Building model with appropriate data."
      ]
    },
    {
      "cell_type": "code",
      "metadata": {
        "id": "LxsTvITs3E9U",
        "colab_type": "code",
        "outputId": "6ada9848-b5ce-4ef7-f876-e0fe72faaa9b",
        "colab": {
          "base_uri": "https://localhost:8080/",
          "height": 50
        }
      },
      "source": [
        "train,test,dev=load_sts_dataset()\n",
        "train_embeddings1,train_embeddings2,train_similarity=prepare_data(train)\n"
      ],
      "execution_count": 10,
      "outputs": [
        {
          "output_type": "stream",
          "text": [
            "Downloading data from http://ixa2.si.ehu.es/stswiki/images/4/48/Stsbenchmark.tar.gz\n",
            "417792/409630 [==============================] - 4s 9us/step\n"
          ],
          "name": "stdout"
        }
      ]
    },
    {
      "cell_type": "markdown",
      "metadata": {
        "id": "8z8kwR5yhfmV",
        "colab_type": "text"
      },
      "source": [
        "The \"sts_dev\" dataset has some issues that need to be looked at but for now we can use test data for validation or use  \"validation_split\" parameter while training the final model to use some part of the training dataset for validation."
      ]
    },
    {
      "cell_type": "code",
      "metadata": {
        "id": "Ld6Ifvp3FAoN",
        "colab_type": "code",
        "colab": {}
      },
      "source": [
        "val_embeddings1,val_embeddings2,val_similarity=prepare_data(test)"
      ],
      "execution_count": 0,
      "outputs": []
    },
    {
      "cell_type": "markdown",
      "metadata": {
        "id": "Iugsciz_iENe",
        "colab_type": "text"
      },
      "source": [
        "# LSTM Model \n",
        "\n",
        "This is the input model to the final output.This will make our Siamese architecture.We need to enhance this model by adding different layers and check for overfitting and underfitting accordingly.Make changes to this model first and analyse accuracy and loss.\n",
        "The last LSTM layer must have **\"return_sequences=False\"** as the next layer will not accept a 3D tensor. You can check the inputs of each layer by executing **model.summary()**.\n",
        "LSTM layers must have a 3D input always."
      ]
    },
    {
      "cell_type": "code",
      "metadata": {
        "id": "MX6OyzG3JWTh",
        "colab_type": "code",
        "colab": {}
      },
      "source": [
        "lstm_model=tf.keras.Sequential([\n",
        "                                tf.keras.layers.Bidirectional(tf.keras.layers.LSTM(256,return_sequences=True)),\n",
        "                                tf.keras.layers.Bidirectional(tf.keras.layers.LSTM(128,return_sequences=True)),\n",
        "                                tf.keras.layers.Bidirectional(tf.keras.layers.LSTM(64,return_sequences=True)),\n",
        "                                tf.keras.layers.Dense(1,activation='relu')\n",
        "])"
      ],
      "execution_count": 0,
      "outputs": []
    },
    {
      "cell_type": "markdown",
      "metadata": {
        "id": "8ttMrRrik0_H",
        "colab_type": "text"
      },
      "source": [
        "Input shapes for the siamese model and output tensors from the LSTM model."
      ]
    },
    {
      "cell_type": "code",
      "metadata": {
        "id": "kxNDrixvltlg",
        "colab_type": "code",
        "colab": {}
      },
      "source": [
        "inp1=tf.keras.Input(shape=[512,1])\n",
        "inp2=tf.keras.Input(shape=[512,1])\n",
        "out1=lstm_model(inp1)\n",
        "out2=lstm_model(inp2)"
      ],
      "execution_count": 0,
      "outputs": []
    },
    {
      "cell_type": "markdown",
      "metadata": {
        "id": "Js7exwqwlCIF",
        "colab_type": "text"
      },
      "source": [
        "Calculating Manhattan Distance of the output Tensors.We may try a few different distance calcaulations too if required."
      ]
    },
    {
      "cell_type": "code",
      "metadata": {
        "id": "r9E3AylOp350",
        "colab_type": "code",
        "colab": {}
      },
      "source": [
        "malstm_dist=tf.keras.layers.Lambda(function=lambda x: manhattan_distance(x[0], x[1]),output_shape=lambda x: (x[0][0], 1))([out1, out2])"
      ],
      "execution_count": 0,
      "outputs": []
    },
    {
      "cell_type": "markdown",
      "metadata": {
        "id": "1HWcifZ4lcoS",
        "colab_type": "text"
      },
      "source": [
        "# Final Model\n",
        "The final model takes the LSTM models as input and gives Manhattan Distance as Output. "
      ]
    },
    {
      "cell_type": "code",
      "metadata": {
        "id": "iDJvSaE6q-mm",
        "colab_type": "code",
        "colab": {}
      },
      "source": [
        "malstm = tf.keras.Model([inp1, inp2], [malstm_dist])"
      ],
      "execution_count": 0,
      "outputs": []
    },
    {
      "cell_type": "code",
      "metadata": {
        "id": "8pVASk30rOlB",
        "colab_type": "code",
        "colab": {}
      },
      "source": [
        "malstm.compile(optimizer=tf.keras.optimizers.Adam(),loss=tf.keras.losses.MeanSquaredError())"
      ],
      "execution_count": 0,
      "outputs": []
    },
    {
      "cell_type": "code",
      "metadata": {
        "id": "6JUQjvub6JIq",
        "colab_type": "code",
        "colab": {
          "base_uri": "https://localhost:8080/",
          "height": 272
        },
        "outputId": "7fba9aea-5fc7-415c-f227-096ba6cdb315"
      },
      "source": [
        "tf.keras.utils.plot_model(malstm)"
      ],
      "execution_count": 17,
      "outputs": [
        {
          "output_type": "execute_result",
          "data": {
            "image/png": "[encoded data removed]",
            "text/plain": [
              "<IPython.core.display.Image object>"
            ]
          },
          "metadata": {
            "tags": []
          },
          "execution_count": 17
        }
      ]
    },
    {
      "cell_type": "code",
      "metadata": {
        "id": "k3K-N_mez8HX",
        "colab_type": "code",
        "colab": {
          "base_uri": "https://localhost:8080/",
          "height": 588
        },
        "outputId": "9610b600-8d08-4065-e92d-86bb6ba1e983"
      },
      "source": [
        "malstm.summary()\n",
        "lstm_model.summary()"
      ],
      "execution_count": 18,
      "outputs": [
        {
          "output_type": "stream",
          "text": [
            "Model: \"model\"\n",
            "__________________________________________________________________________________________________\n",
            "Layer (type)                    Output Shape         Param #     Connected to                     \n",
            "==================================================================================================\n",
            "input_1 (InputLayer)            [(None, 512, 1)]     0                                            \n",
            "__________________________________________________________________________________________________\n",
            "input_2 (InputLayer)            [(None, 512, 1)]     0                                            \n",
            "__________________________________________________________________________________________________\n",
            "sequential (Sequential)         (None, 512, 1)       1349249     input_1[0][0]                    \n",
            "                                                                 input_2[0][0]                    \n",
            "__________________________________________________________________________________________________\n",
            "lambda (Lambda)                 (None, 1, 1)         0           sequential[0][0]                 \n",
            "                                                                 sequential[1][0]                 \n",
            "==================================================================================================\n",
            "Total params: 1,349,249\n",
            "Trainable params: 1,349,249\n",
            "Non-trainable params: 0\n",
            "__________________________________________________________________________________________________\n",
            "Model: \"sequential\"\n",
            "_________________________________________________________________\n",
            "Layer (type)                 Output Shape              Param #   \n",
            "=================================================================\n",
            "bidirectional (Bidirectional (None, 512, 512)          528384    \n",
            "_________________________________________________________________\n",
            "bidirectional_1 (Bidirection (None, 512, 256)          656384    \n",
            "_________________________________________________________________\n",
            "bidirectional_2 (Bidirection (None, 512, 128)          164352    \n",
            "_________________________________________________________________\n",
            "dense (Dense)                (None, 512, 1)            129       \n",
            "=================================================================\n",
            "Total params: 1,349,249\n",
            "Trainable params: 1,349,249\n",
            "Non-trainable params: 0\n",
            "_________________________________________________________________\n"
          ],
          "name": "stdout"
        }
      ]
    },
    {
      "cell_type": "markdown",
      "metadata": {
        "id": "VjxT3SthLNGq",
        "colab_type": "text"
      },
      "source": [
        "# Callbacks\n",
        "Early Stopping callback to stop training if validation loss is not improving and ModelCheckpoint to save the best model during training. "
      ]
    },
    {
      "cell_type": "code",
      "metadata": {
        "id": "ziTjd5S2GFQ0",
        "colab_type": "code",
        "colab": {}
      },
      "source": [
        "es=tf.keras.callbacks.EarlyStopping(monitor='val_loss',mode=\"min\",patience=3)\n",
        "best_model_save=tf.keras.callbacks.ModelCheckpoint('/content/gdrive/My Drive/Colab Notebooks/STS_models/bestmodel.h5',monitor='val_loss',save_best_only=True,mode='min')"
      ],
      "execution_count": 0,
      "outputs": []
    },
    {
      "cell_type": "code",
      "metadata": {
        "id": "c89e8R_XFIPV",
        "colab_type": "code",
        "outputId": "54d1b86f-18dd-43e3-f930-82d5117c8726",
        "colab": {
          "base_uri": "https://localhost:8080/",
          "height": 185
        }
      },
      "source": [
        "model_hist=malstm.fit([train_embeddings1,train_embeddings2],train_similarity,epochs=10,validation_data=([val_embeddings1,val_embeddings2],val_similarity),shuffle=True,batch_size=64,validation_batch_size=64,callbacks=[es,best_model_save],use_multiprocessing=True)"
      ],
      "execution_count": 20,
      "outputs": [
        {
          "output_type": "stream",
          "text": [
            "Epoch 1/10\n",
            "90/90 [==============================] - 43s 483ms/step - loss: 0.0617 - val_loss: 0.0488\n",
            "Epoch 2/10\n",
            "90/90 [==============================] - 40s 447ms/step - loss: 0.0452 - val_loss: 0.0482\n",
            "Epoch 3/10\n",
            "90/90 [==============================] - 39s 433ms/step - loss: 0.0448 - val_loss: 0.0482\n",
            "Epoch 4/10\n",
            "90/90 [==============================] - 39s 436ms/step - loss: 0.0447 - val_loss: 0.0483\n",
            "Epoch 5/10\n",
            "90/90 [==============================] - 39s 434ms/step - loss: 0.0451 - val_loss: 0.0486\n"
          ],
          "name": "stdout"
        }
      ]
    },
    {
      "cell_type": "markdown",
      "metadata": {
        "id": "fK42RCEoQgt0",
        "colab_type": "text"
      },
      "source": [
        "Loss may vary a bit for each training session.Approximate MSE value for validation is 0.0481.Best was 0.0431. "
      ]
    },
    {
      "cell_type": "code",
      "metadata": {
        "id": "kGq6Fi1lGj-J",
        "colab_type": "code",
        "outputId": "80c4e340-5da0-408f-f570-3d0a637cb404",
        "colab": {
          "base_uri": "https://localhost:8080/",
          "height": 295
        }
      },
      "source": [
        "plot_model_history(model_hist)"
      ],
      "execution_count": 25,
      "outputs": [
        {
          "output_type": "display_data",
          "data": {
            "image/png": "[encoded data removed]",
            "text/plain": [
              "<Figure size 432x288 with 1 Axes>"
            ]
          },
          "metadata": {
            "tags": []
          }
        }
      ]
    },
    {
      "cell_type": "code",
      "metadata": {
        "id": "vx4KX8Jp43Wn",
        "colab_type": "code",
        "colab": {}
      },
      "source": [
        "def create_embeddings(sentence):\n",
        "    embedding = tf.nn.l2_normalize(embed(sentence), axis=1)\n",
        "    embedding=tf.expand_dims(embedding,axis=2)\n",
        "    return embedding"
      ],
      "execution_count": 0,
      "outputs": []
    },
    {
      "cell_type": "markdown",
      "metadata": {
        "id": "U6fJzU36L2iy",
        "colab_type": "text"
      },
      "source": [
        "# Prediction\n",
        "Function returns the provided dataset appended with a column containing predicted values by our model."
      ]
    },
    {
      "cell_type": "code",
      "metadata": {
        "id": "a4qZiIKlE2f2",
        "colab_type": "code",
        "colab": {}
      },
      "source": [
        "def predict_samples(samples,model):\n",
        "  samples_embeddings1,samples_embeddings2,samples_similarity=prepare_data(samples)\n",
        "  preds=model.predict([samples_embeddings1,samples_embeddings2])\n",
        "  preds=preds*5\n",
        "  preds=preds.tolist()\n",
        "  preds=pd.DataFrame(preds)\n",
        "  samples['predicted_sim']=preds\n",
        "  return samples\n"
      ],
      "execution_count": 0,
      "outputs": []
    },
    {
      "cell_type": "markdown",
      "metadata": {
        "id": "wXv6daSYMVgv",
        "colab_type": "text"
      },
      "source": [
        "Predicting first 100 samples from the 'dev' set of STS."
      ]
    },
    {
      "cell_type": "code",
      "metadata": {
        "id": "Do9yZ5JbBTu3",
        "colab_type": "code",
        "outputId": "428a3c14-830b-4d98-ede4-e587cff7a202",
        "colab": {
          "base_uri": "https://localhost:8080/",
          "height": 118
        }
      },
      "source": [
        "predicted_data=predict_samples(dev[:100],malstm)"
      ],
      "execution_count": 30,
      "outputs": [
        {
          "output_type": "stream",
          "text": [
            "/usr/local/lib/python3.6/dist-packages/ipykernel_launcher.py:7: SettingWithCopyWarning: \n",
            "A value is trying to be set on a copy of a slice from a DataFrame.\n",
            "Try using .loc[row_indexer,col_indexer] = value instead\n",
            "\n",
            "See the caveats in the documentation: https://pandas.pydata.org/pandas-docs/stable/user_guide/indexing.html#returning-a-view-versus-a-copy\n",
            "  import sys\n"
          ],
          "name": "stderr"
        }
      ]
    },
    {
      "cell_type": "markdown",
      "metadata": {
        "id": "NZL6dPD_MhdC",
        "colab_type": "text"
      },
      "source": [
        "Save predicted data to drive.\n",
        "Change paths to save file as you prefer."
      ]
    },
    {
      "cell_type": "code",
      "metadata": {
        "id": "gD-urSBCHab4",
        "colab_type": "code",
        "colab": {}
      },
      "source": [
        "predicted_data.to_csv('/content/gdrive/My Drive/Colab Notebooks/Datasets_STS/predicted_data_sts.csv')"
      ],
      "execution_count": 0,
      "outputs": []
    }
  ]
}